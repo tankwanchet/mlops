{
 "cells": [
  {
   "cell_type": "code",
   "execution_count": 2,
   "id": "5806cc25",
   "metadata": {},
   "outputs": [],
   "source": [
    "import tarfile\n",
    "import joblib\n"
   ]
  },
  {
   "cell_type": "code",
   "execution_count": 7,
   "id": "438af050",
   "metadata": {},
   "outputs": [],
   "source": [
    "tar = tarfile.open(\"../model_checkpoint/model.tar.gz\")\n",
    "# model = joblib.load(tar.extractfile(member=tar.getmember(name=\"model.joblib\")))"
   ]
  },
  {
   "cell_type": "code",
   "execution_count": 8,
   "id": "19c80886",
   "metadata": {},
   "outputs": [
    {
     "data": {
      "text/plain": [
       "[]"
      ]
     },
     "execution_count": 8,
     "metadata": {},
     "output_type": "execute_result"
    }
   ],
   "source": [
    "tar.getnames()"
   ]
  }
 ],
 "metadata": {
  "kernelspec": {
   "display_name": "conda_python3",
   "language": "python",
   "name": "conda_python3"
  },
  "language_info": {
   "codemirror_mode": {
    "name": "ipython",
    "version": 3
   },
   "file_extension": ".py",
   "mimetype": "text/x-python",
   "name": "python",
   "nbconvert_exporter": "python",
   "pygments_lexer": "ipython3",
   "version": "3.6.13"
  }
 },
 "nbformat": 4,
 "nbformat_minor": 5
}
